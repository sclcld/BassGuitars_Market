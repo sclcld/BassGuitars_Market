{
 "cells": [
  {
   "cell_type": "code",
   "execution_count": 97,
   "id": "0116b497-f48a-4e27-9b66-ed444d80662a",
   "metadata": {},
   "outputs": [],
   "source": [
    "import os\n",
    "import pandas as pd"
   ]
  },
  {
   "cell_type": "code",
   "execution_count": 99,
   "id": "059f7699-debc-4943-8bcb-a56093397537",
   "metadata": {},
   "outputs": [
    {
     "data": {
      "text/plain": [
       "'C:\\\\Users\\\\pc\\\\MarABass'"
      ]
     },
     "execution_count": 99,
     "metadata": {},
     "output_type": "execute_result"
    }
   ],
   "source": [
    "os.getcwd()"
   ]
  },
  {
   "cell_type": "code",
   "execution_count": 101,
   "id": "f0207f1c-4f21-4e3b-95dc-3353f7a5a476",
   "metadata": {},
   "outputs": [
    {
     "name": "stdout",
     "output_type": "stream",
     "text": [
      "<class 'pandas.core.frame.DataFrame'>\n",
      "RangeIndex: 188 entries, 0 to 187\n",
      "Data columns (total 4 columns):\n",
      " #   Column        Non-Null Count  Dtype  \n",
      "---  ------        --------------  -----  \n",
      " 0   Unnamed: 0    188 non-null    int64  \n",
      " 1   Manufacturer  188 non-null    object \n",
      " 2   Product Name  188 non-null    object \n",
      " 3   Price ($)     188 non-null    float64\n",
      "dtypes: float64(1), int64(1), object(2)\n",
      "memory usage: 6.0+ KB\n"
     ]
    }
   ],
   "source": [
    "os.chdir(\"C:\\\\Users\\\\pc\\\\MarABass\")\n",
    "bartolini_df= []\n",
    "pickups_df= pd.read_excel(\"Raw/Pickups/pickups.xlsx\")\n",
    "pickups_df.info()"
   ]
  },
  {
   "cell_type": "code",
   "execution_count": 103,
   "id": "93368df0-12b9-48f9-a6b4-4edc6e5fc92a",
   "metadata": {},
   "outputs": [
    {
     "data": {
      "text/html": [
       "<div>\n",
       "<style scoped>\n",
       "    .dataframe tbody tr th:only-of-type {\n",
       "        vertical-align: middle;\n",
       "    }\n",
       "\n",
       "    .dataframe tbody tr th {\n",
       "        vertical-align: top;\n",
       "    }\n",
       "\n",
       "    .dataframe thead th {\n",
       "        text-align: right;\n",
       "    }\n",
       "</style>\n",
       "<table border=\"1\" class=\"dataframe\">\n",
       "  <thead>\n",
       "    <tr style=\"text-align: right;\">\n",
       "      <th></th>\n",
       "      <th>Manufacturer</th>\n",
       "      <th>Product Name</th>\n",
       "      <th>Price ($)</th>\n",
       "    </tr>\n",
       "  </thead>\n",
       "  <tbody>\n",
       "    <tr>\n",
       "      <th>0</th>\n",
       "      <td>Bartolini</td>\n",
       "      <td>4-String Classic Dual Coil J-Bass – 9CBJD1</td>\n",
       "      <td>115.00</td>\n",
       "    </tr>\n",
       "    <tr>\n",
       "      <th>1</th>\n",
       "      <td>Bartolini</td>\n",
       "      <td>4-String Classic Dual Coil J-Bass – 9CBJD3</td>\n",
       "      <td>115.00</td>\n",
       "    </tr>\n",
       "    <tr>\n",
       "      <th>2</th>\n",
       "      <td>Bartolini</td>\n",
       "      <td>4-String Classic Single Coil J-Bass – 9CBJS1</td>\n",
       "      <td>95.00</td>\n",
       "    </tr>\n",
       "    <tr>\n",
       "      <th>3</th>\n",
       "      <td>Bartolini</td>\n",
       "      <td>4-String Classic Single Coil J-Bass – 9CBJS3</td>\n",
       "      <td>95.00</td>\n",
       "    </tr>\n",
       "    <tr>\n",
       "      <th>4</th>\n",
       "      <td>Bartolini</td>\n",
       "      <td>4-String J-Bass – b-axis J44J</td>\n",
       "      <td>140.00</td>\n",
       "    </tr>\n",
       "    <tr>\n",
       "      <th>...</th>\n",
       "      <td>...</td>\n",
       "      <td>...</td>\n",
       "      <td>...</td>\n",
       "    </tr>\n",
       "    <tr>\n",
       "      <th>183</th>\n",
       "      <td>Aguilar</td>\n",
       "      <td>AG 4P-51 50's Era Precision Bass Pickup</td>\n",
       "      <td>89.99</td>\n",
       "    </tr>\n",
       "    <tr>\n",
       "      <th>184</th>\n",
       "      <td>Aguilar</td>\n",
       "      <td>AG 4M/J-HC 4-string Music Man/Jazz Hum-Cancel...</td>\n",
       "      <td>259.99</td>\n",
       "    </tr>\n",
       "    <tr>\n",
       "      <th>185</th>\n",
       "      <td>Aguilar</td>\n",
       "      <td>AG 4J-HOT 4-string Overwound Jazz Bass Pickup...</td>\n",
       "      <td>189.99</td>\n",
       "    </tr>\n",
       "    <tr>\n",
       "      <th>186</th>\n",
       "      <td>Aguilar</td>\n",
       "      <td>AG 4J-70 70's Era 4-String Jazz Bass Pickup Set</td>\n",
       "      <td>179.99</td>\n",
       "    </tr>\n",
       "    <tr>\n",
       "      <th>187</th>\n",
       "      <td>Aguilar</td>\n",
       "      <td>AG 4J-60 60's Era 4-String Jazz Bass Pickup Set</td>\n",
       "      <td>179.99</td>\n",
       "    </tr>\n",
       "  </tbody>\n",
       "</table>\n",
       "<p>240 rows × 3 columns</p>\n",
       "</div>"
      ],
      "text/plain": [
       "    Manufacturer                                       Product Name Price ($)\n",
       "0      Bartolini         4-String Classic Dual Coil J-Bass – 9CBJD1    115.00\n",
       "1      Bartolini         4-String Classic Dual Coil J-Bass – 9CBJD3    115.00\n",
       "2      Bartolini       4-String Classic Single Coil J-Bass – 9CBJS1     95.00\n",
       "3      Bartolini       4-String Classic Single Coil J-Bass – 9CBJS3     95.00\n",
       "4      Bartolini                      4-String J-Bass – b-axis J44J    140.00\n",
       "..           ...                                                ...       ...\n",
       "183      Aguilar            AG 4P-51 50's Era Precision Bass Pickup     89.99\n",
       "184      Aguilar   AG 4M/J-HC 4-string Music Man/Jazz Hum-Cancel...    259.99\n",
       "185      Aguilar   AG 4J-HOT 4-string Overwound Jazz Bass Pickup...    189.99\n",
       "186      Aguilar    AG 4J-70 70's Era 4-String Jazz Bass Pickup Set    179.99\n",
       "187      Aguilar    AG 4J-60 60's Era 4-String Jazz Bass Pickup Set    179.99\n",
       "\n",
       "[240 rows x 3 columns]"
      ]
     },
     "execution_count": 103,
     "metadata": {},
     "output_type": "execute_result"
    }
   ],
   "source": [
    "with open(\"Raw/Pickups/bartoliniPickups.csv\", 'r') as file:\n",
    "    bartolini= file.read().splitlines()\n",
    "    for line in bartolini[1:]:\n",
    "        name, price= line.split(\",\")\n",
    "        price= price.split(\" \")[0][1:] if len(price.split(\" \")) > 1 else price\n",
    "        card= {\"Manufacturer\" : \"Bartolini\", \"Product Name\": name, \"Price ($)\": price}\n",
    "        bartolini_df.append(card)\n",
    "bartolini_df= pd.DataFrame(bartolini_df)\n",
    "pickups_df= pickups_df.drop(columns=[\"Unnamed: 0\"])\n",
    "new_df= pd.concat([bartolini_df, pickups_df])\n",
    "new_df"
   ]
  },
  {
   "cell_type": "code",
   "execution_count": 105,
   "id": "592351ae-8e33-4902-82f3-e10ab015e169",
   "metadata": {},
   "outputs": [],
   "source": [
    "new_df.to_excel(\"Clean/pickups.xlsx\")"
   ]
  },
  {
   "cell_type": "code",
   "execution_count": null,
   "id": "47496244-74ab-4ebd-b982-e2977ef61c80",
   "metadata": {},
   "outputs": [],
   "source": []
  },
  {
   "cell_type": "code",
   "execution_count": null,
   "id": "14948a78-4de0-41f8-9c5b-2796b63a66ac",
   "metadata": {},
   "outputs": [],
   "source": []
  }
 ],
 "metadata": {
  "kernelspec": {
   "display_name": "Python 3 (ipykernel)",
   "language": "python",
   "name": "python3"
  },
  "language_info": {
   "codemirror_mode": {
    "name": "ipython",
    "version": 3
   },
   "file_extension": ".py",
   "mimetype": "text/x-python",
   "name": "python",
   "nbconvert_exporter": "python",
   "pygments_lexer": "ipython3",
   "version": "3.12.4"
  }
 },
 "nbformat": 4,
 "nbformat_minor": 5
}
