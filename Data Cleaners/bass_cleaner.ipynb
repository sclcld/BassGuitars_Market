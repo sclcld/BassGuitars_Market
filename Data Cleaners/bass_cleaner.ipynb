{
 "cells": [
  {
   "cell_type": "code",
   "execution_count": 256,
   "id": "17fcd76d-7833-44ee-b6c0-256cbd8a3499",
   "metadata": {},
   "outputs": [],
   "source": [
    "import os\n",
    "import pandas as pd\n",
    "\n",
    "def mat_cleaner(record):\n",
    "\n",
    "    word= str(record).title()\n",
    "    word= word.replace(\"Selezionato\", \"\").replace(\", 2 Pezzi\", \"\").replace(\"Tenero\", \"\").replace(\" Di Palude\", \"\").replace(\"Laurel\", \"Alloro\").replace(\",\",\"\")\n",
    "    word= word.replace(\"In \", \"\").replace(\"A Lamina\", \"\").replace(\"Roseacer\", \"Acero Roasted\").replace(\"1-Piece\", \"\").replace(\"5 Pezzi\",\"\")\n",
    "    word= word.replace(\"Mogano / Frassino / Mogano / Frassino\", \"Mogano/ Frassino\").replace(\"Costruzione A Manico Passante\", \"\")\n",
    "    word= word.replace(\"Semi-Intaglio Scolpita A Mano\", \"\").replace(\"Costruzione A Manico Avvitato\", \"\").replace(\"Neck-Trhough\", \"\")\n",
    "    word= word.replace(\"Acero Tostato\", \"Acero Marezzato Roasted\").replace(\"Multistrato Di\", \"\").replace(\"Nan\",\"\").replace(\" Semi-Hollow\", \"\")\n",
    "    word= word.replace(\"Roasted Maple\", \"Acero Roasted\").replace(\"Maple\", \"Acero\")\n",
    "\n",
    "    return word.strip()\n",
    "\n",
    "os.chdir(\"C:\\\\Users\\\\pc\\\\MarABass\\\\Clean\\\\\")\n",
    "bass_df= pd.read_excel(\"basses.xlsx\")\n",
    "\n",
    "new_df= pd.DataFrame(bass_df)\n",
    "new_df[\"Product Name\"]= [pick.replace(\"®\", \"\").replace(\"™\",\"\") for pick in bass_df[\"Product Name\"]] \n",
    "new_df[\"Body\"]= [mat_cleaner(material) for material in bass_df[\"Body\"]]\n",
    "new_df[\"Neck\"]= [mat_cleaner(mat) for mat in bass_df[\"Neck\"]]\n",
    "new_df[\"Fingerboard\"]= [mat_cleaner(mat) for mat in bass_df[\"Fingerboard\"]]\n",
    "new_df[\"Nut\"]= [mat_cleaner(mat) for mat in bass_df[\"Nut\"]]\n",
    "new_df[\"Bridge Pickup\"]= [str(pick).replace(\"®\", \"\").replace(\"™\",\"\") for pick in bass_df[\"Bridge Pickup\"]] \n",
    "new_df[\"Neck Pickup\"]= [str(pick).replace(\"®\", \"\").replace(\"™\",\"\").strip() for pick in bass_df[\"Neck Pickup\"]]\n",
    "new_df[\"Bridge\"]= [str(pick).replace(\"®\", \"\").replace(\"™\",\"\").strip() for pick in bass_df[\"Bridge\"]]\n",
    "\n",
    "      "
   ]
  },
  {
   "cell_type": "code",
   "execution_count": 264,
   "id": "e761d31b-2846-42d2-b973-6a5043976847",
   "metadata": {},
   "outputs": [],
   "source": [
    "os.remove(\"basses.xlsx\")\n",
    "new_df.to_excel(\"basses.xlsx\")"
   ]
  },
  {
   "cell_type": "code",
   "execution_count": null,
   "id": "3c813633-2a1e-4da0-9567-940199bcb9b6",
   "metadata": {},
   "outputs": [],
   "source": []
  }
 ],
 "metadata": {
  "kernelspec": {
   "display_name": "Python 3 (ipykernel)",
   "language": "python",
   "name": "python3"
  },
  "language_info": {
   "codemirror_mode": {
    "name": "ipython",
    "version": 3
   },
   "file_extension": ".py",
   "mimetype": "text/x-python",
   "name": "python",
   "nbconvert_exporter": "python",
   "pygments_lexer": "ipython3",
   "version": "3.12.4"
  }
 },
 "nbformat": 4,
 "nbformat_minor": 5
}
