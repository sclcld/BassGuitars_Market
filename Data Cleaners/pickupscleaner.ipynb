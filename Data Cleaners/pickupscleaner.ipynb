{
 "cells": [
  {
   "cell_type": "code",
   "execution_count": 41,
   "id": "424b9644-5637-4c65-8ddb-9214b123f49c",
   "metadata": {},
   "outputs": [],
   "source": [
    "import os\n",
    "import pandas as pd\n",
    "\n",
    "os.chdir(\"C:\\\\Users\\\\pc\\\\MarABass\\\\Clean\")\n",
    "pickups= pd.read_excel(\"pickups.xlsx\")\n",
    "new_df= pickups\n",
    "new_prices= []\n",
    "for price in pickups[\"Price ($)\"]:\n",
    "    price= str(price).replace(\"$\", \"\").replace(\",\", \".\")\n",
    "    new_prices.append(round(float(price, ) * 0.93, ndigits= 2))\n",
    "\n",
    "new_df[\"Price ($)\"]= new_prices\n",
    "new_df[\"Product Name\"]= [pick.replace(\" â€“ \", \"\") for pick in pickups[\"Product Name\"]]\n",
    "os.remove(\"pickups.xlsx\")\n",
    "new_df.to_excel(\"pickups.xlsx\")"
   ]
  },
  {
   "cell_type": "code",
   "execution_count": 37,
   "id": "19b1b2f0-9e25-49bd-9cdc-1929044fa496",
   "metadata": {},
   "outputs": [],
   "source": []
  },
  {
   "cell_type": "code",
   "execution_count": null,
   "id": "bc6cab06-5bcc-443e-b49e-c6ac1951a1d1",
   "metadata": {},
   "outputs": [],
   "source": []
  }
 ],
 "metadata": {
  "kernelspec": {
   "display_name": "Python 3 (ipykernel)",
   "language": "python",
   "name": "python3"
  },
  "language_info": {
   "codemirror_mode": {
    "name": "ipython",
    "version": 3
   },
   "file_extension": ".py",
   "mimetype": "text/x-python",
   "name": "python",
   "nbconvert_exporter": "python",
   "pygments_lexer": "ipython3",
   "version": "3.12.4"
  }
 },
 "nbformat": 4,
 "nbformat_minor": 5
}
